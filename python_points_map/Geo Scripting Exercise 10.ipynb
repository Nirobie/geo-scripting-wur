{
 "metadata": {
  "name": "",
  "signature": "sha256:07a5785d3bd385e937454bd886a19aafe21508ce3cf5351f409375b202dc5cc5"
 },
 "nbformat": 3,
 "nbformat_minor": 0,
 "worksheets": [
  {
   "cells": [
    {
     "cell_type": "code",
     "collapsed": false,
     "input": [
      "# Alejandro Salazar & Bob Souwer\n",
      "# 21-01-2017\n",
      "# Geo Scripting exercise 10\n",
      "\n",
      "# import osgeo package\n",
      "from osgeo import ogr, osr\n",
      "import folium\n",
      "import os\n",
      "\n",
      "# Export to kml didn work; used the KML and GeoJSON drivers instead. Function to automate it.\n",
      "# Not very user-friendly but it works?!\n",
      "# Function to create file\n",
      "def create_file(drivername, filename):\n",
      "    driverName = drivername\n",
      "    drv = ogr.GetDriverByName(driverName)\n",
      "    fn = filename\n",
      "    layername = \"wageningen_points\"\n",
      "    # Create the file\n",
      "    ds = drv.CreateDataSource(fn)\n",
      "    # Set spatial reference\n",
      "    spatialReference = osr.SpatialReference()\n",
      "    spatialReference.ImportFromEPSG(4326)\n",
      "    # Create layer\n",
      "    layer=ds.CreateLayer(layername, spatialReference, ogr.wkbPoint)\n",
      "    # Create points and set points\n",
      "    point1 = ogr.Geometry(ogr.wkbPoint)\n",
      "    point2 = ogr.Geometry(ogr.wkbPoint)\n",
      "    point1.SetPoint(0,5.666503,51.987348) \n",
      "    point2.SetPoint(0,5.650305,51.961773)\n",
      "    # Create feature\n",
      "    layerDefinition = layer.GetLayerDefn()\n",
      "    feature1 = ogr.Feature(layerDefinition)\n",
      "    feature2 = ogr.Feature(layerDefinition)\n",
      "    # Add points to the feature\n",
      "    feature1.SetGeometry(point1)\n",
      "    feature2.SetGeometry(point2)\n",
      "    # Store feature in the layer\n",
      "    layer.CreateFeature(feature1)\n",
      "    layer.CreateFeature(feature2)\n",
      "    ds.Destroy()\n",
      "\n",
      "# Call the function to great a .kml, .shp and .json file\n",
      "create_file(\"KML\", \"points.kml\")\n",
      "create_file(\"ESRI Shapefile\", \"points.shp\")\n",
      "create_file(\"GeoJSON\", \"points.json\")\n",
      "\n",
      "# Make a map with the .json file\n",
      "pointsGeo=os.path.join(\"points.json\")\n",
      "map_points = folium.Map(location=[52,5.7],tiles='Mapbox Bright', zoom_start=8)\n",
      "map_points.choropleth(geo_path=pointsGeo)\n",
      "map_points.save('points.html')\n"
     ],
     "language": "python",
     "metadata": {},
     "outputs": [],
     "prompt_number": 15
    },
    {
     "cell_type": "code",
     "collapsed": false,
     "input": [],
     "language": "python",
     "metadata": {},
     "outputs": []
    }
   ],
   "metadata": {}
  }
 ]
}