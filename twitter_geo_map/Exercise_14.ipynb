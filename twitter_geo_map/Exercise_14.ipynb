{
 "metadata": {
  "name": "",
  "signature": "sha256:943568e134976d767e4b17511840122db607dc670ad2444da40b12bcd333295a"
 },
 "nbformat": 3,
 "nbformat_minor": 0,
 "worksheets": [
  {
   "cells": [
    {
     "cell_type": "code",
     "collapsed": false,
     "input": [
      "from twython import Twython\n",
      "import json\n",
      "import datetime\n",
      "import folium\n",
      "\n",
      "##codes to access twitter API. -- INSERT YOUR OWN KEYS - SAFETY FIRST :)\n",
      "APP_KEY = \"\"\n",
      "APP_SECRET = \"\"\n",
      "OAUTH_TOKEN = \"\"\n",
      "OAUTH_TOKEN_SECRET = \"\"\n",
      "\n",
      "##initiating Twython object \n",
      "twitter = Twython(APP_KEY, APP_SECRET, OAUTH_TOKEN, OAUTH_TOKEN_SECRET)\n",
      "\n",
      "## search twitter for tweets and write to file\n",
      "search_results = twitter.search(geocode='52.087399,5.120959,3000km', count=100)\n",
      "for tweet in search_results[\"statuses\"]:\n",
      "    username =  tweet['user']['screen_name']\n",
      "    language = tweet['lang']\n",
      "    coordinates = tweet['coordinates']\n",
      "    if coordinates != None:\n",
      "        lat = coordinates['coordinates'][0]\n",
      "        lon = coordinates['coordinates'][1]    \n",
      "        output_file = 'result.csv' \n",
      "        target = open(output_file, 'a')\n",
      "        target.write(username + \"\\t\" + language + \"\\t\" + str(lat) + \"\\t\" + str(lon))\n",
      "        target.write('\\n')\n",
      "        target.close()\n",
      "\n",
      "## create map from saved tweets        \n",
      "map = folium.Map(location = [52.087399, 5.120959], zoom_start=5)\n",
      "dest = open(output_file, 'r')\n",
      "for line in dest:\n",
      "    lines = line.split()\n",
      "    folium.Marker([lines[3], lines[2]], popup=lines[0] + ' - ' + lines[1]).add_to(map)\n",
      "map.save('tweets.html')\n",
      "dest.close()"
     ],
     "language": "python",
     "metadata": {},
     "outputs": [],
     "prompt_number": 61
    },
    {
     "cell_type": "code",
     "collapsed": false,
     "input": [],
     "language": "python",
     "metadata": {},
     "outputs": [],
     "prompt_number": 33
    },
    {
     "cell_type": "code",
     "collapsed": false,
     "input": [],
     "language": "python",
     "metadata": {},
     "outputs": [],
     "prompt_number": 33
    },
    {
     "cell_type": "code",
     "collapsed": false,
     "input": [],
     "language": "python",
     "metadata": {},
     "outputs": []
    }
   ],
   "metadata": {}
  }
 ]
}