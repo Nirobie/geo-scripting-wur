{
 "metadata": {
  "name": "",
  "signature": "sha256:a73bf07bc7e1912563dcee4395d983077f88b3a287316e3ff67d63e45e7d4b68"
 },
 "nbformat": 3,
 "nbformat_minor": 0,
 "worksheets": [
  {
   "cells": [
    {
     "cell_type": "code",
     "collapsed": false,
     "input": [],
     "language": "python",
     "metadata": {},
     "outputs": []
    },
    {
     "cell_type": "code",
     "collapsed": false,
     "input": [
      "from twython import Twython\n",
      "import json\n",
      "import datetime \n",
      "\n",
      "##codes to access twitter API. \n",
      "APP_KEY = \"9jlDDVPYsigPe8Ao9UbnqjQ7Q\"\n",
      "APP_SECRET = \"jVHAOFrKHfpBOaJzH2K0F0ZRgB3bz5rVdlqoGQAup5tXaaspGT\"\n",
      "OAUTH_TOKEN = \"102152165-Sdv2opvPufyotWasY7U2C5G1ofxrckFvDtKKvTpx\"\n",
      "OAUTH_TOKEN_SECRET = \"FoBl3PW21BZoUeYi4WDbcUHuMC4YTAL5ZOvctMVB3eAsl\"\n",
      "\n",
      "##initiating Twython object \n",
      "twitter = Twython(APP_KEY, APP_SECRET, OAUTH_TOKEN, OAUTH_TOKEN_SECRET)\n",
      "\n",
      "search_results = twitter.reverse_geocode(lat=35.226944, long=-80.843333, granularity=\"city\")\n",
      "\n",
      "#print search_results#['']\n",
      "\n",
      "output_file = 'places.csv' \n",
      "target = open(output_file, 'a')\n",
      "\n",
      "for result in search_results['result']['places']:\n",
      "        place_type = result['place_type']\n",
      "        if place_type == \"city\":\n",
      "            city = result['full_name']\n",
      "            place_id = result['id']\n",
      "            lat_c = result['centroid'][0]\n",
      "            long_c = result['centroid'][1]\n",
      "            target.write(city + '\\t' + place_id + '\\t' + str(lat_c) + '\\t' + str(long_c))\n",
      "            target.write('\\n')\n",
      "        \n",
      "target.close()\n",
      "    "
     ],
     "language": "python",
     "metadata": {},
     "outputs": [],
     "prompt_number": 46
    },
    {
     "cell_type": "code",
     "collapsed": false,
     "input": [],
     "language": "python",
     "metadata": {},
     "outputs": [],
     "prompt_number": 11
    },
    {
     "cell_type": "code",
     "collapsed": false,
     "input": [],
     "language": "python",
     "metadata": {},
     "outputs": []
    }
   ],
   "metadata": {}
  }
 ]
}